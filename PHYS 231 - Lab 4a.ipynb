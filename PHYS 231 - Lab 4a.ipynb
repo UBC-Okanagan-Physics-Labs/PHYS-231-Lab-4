{
 "cells": [
  {
   "cell_type": "markdown",
   "id": "35e06a9d",
   "metadata": {
    "deletable": false,
    "editable": false,
    "tags": []
   },
   "source": [
    "# <div style=\"background-color:rgba(204, 229, 255, 0.5); text-align:center; vertical-align: middle; padding:40px 0; margin-top:30px\"><span style=\"color:rgba(0, 76, 153, 1);\">PHYS 231 Lab #4 - Day 1<span style=\"color:red\"> $\\to$ (8 possible marks)</span></span></div>\n",
    "\n",
    "### Due Thursday, Oct. 19 at 17:00 $-$ upload your .zip submission to the PHYS 231 Canvas Gradebook.\n",
    "\n",
    "<font size =\"4\"><span style=\"color:purple\">We recommend that you complete this notebook using either the [Google Chrome](https://www.google.com/intl/en_ca/chrome/) or [Mozilla Firefox](https://www.mozilla.org/en-CA/firefox/new/) browser.  Chrome and Firefox are both available for Windows, Mac, and Linux operating systems.  The PHYS 121 Jupyter notebooks should work in other browsers, but we have specifically verfied that they work well in both Chrome and Firefox.</span></font>\n",
    "\n",
    "# $LRC$ Circuit Transient Response"
   ]
  },
  {
   "cell_type": "markdown",
   "id": "df6f1098",
   "metadata": {
    "deletable": false,
    "editable": false,
    "tags": []
   },
   "source": [
    "***\n",
    "## Lab Learning Outcomes:\n",
    "By the end of the PHYS 231 Lab #4, students will be able to:\n",
    "* <b><span style=\"color:rgba(0, 153, 76, 1);\">Design, build, and test practical $LRC$ circuits.</span></b>\n",
    "* <b><span style=\"color:rgba(0, 153, 76, 1);\">Determine the time constant from the transient response of an $LRC$ circuit.</span></b>\n",
    "* <b><span style=\"color:rgba(0, 153, 76, 1);\">Perform a weighted linear fit to a set of data and use the extracted best-fit parameters to determine a quantity of interest.</span></b>"
   ]
  },
  {
   "cell_type": "markdown",
   "id": "0e4a157b-e4e2-4d2f-a623-9cc46514696d",
   "metadata": {
    "deletable": false,
    "editable": false,
    "tags": []
   },
   "source": [
    "***\n",
    "## Autograding:\n",
    "The PHYS 231 Labs will make use of some autograding.  To make the autograding work, the two cells below needs to be executed.  The first one installs the required packages and the second imports required packages/modules.  If 'PHYS231.Installer()' reports that some functions have been installed, the user should restart the \"kernel\" and then exectute the PHYS231.Installer() cell a second time.  The second time the installer function is run, it should report that **\"All packages already installed. Please proceed\"**.\n",
    "\n",
    "If necessary, the kernel can be restarted by selecting **Kernel** $\\to$ **Restart Kernel** from the menu options at to the top of the page.  Here is a <a href = \"https://raw.githubusercontent.com/UBC-Okanagan-Physics-Labs/PHYS-121-images/main/general/gifs/restartKernel.gif\">GIF</a> showing how to restart the kernel.\n",
    "\n",
    "The 'PHYS231.Installer()' command requires the file 'PHYS231.py', which you should see included in the list of files along the left-hand side of the screen."
   ]
  },
  {
   "cell_type": "code",
   "execution_count": null,
   "id": "59e1635c-8194-4615-b5a0-a94872d8ab33",
   "metadata": {
    "deletable": false,
    "editable": false,
    "tags": []
   },
   "outputs": [],
   "source": [
    "# Hide unnecessary warnings.\n",
    "import warnings\n",
    "warnings.filterwarnings('ignore')\n",
    "\n",
    "# Import PHYS231.py and then run the installer function.\n",
    "import PHYS231\n",
    "PHYS231.Installer()"
   ]
  },
  {
   "cell_type": "code",
   "execution_count": null,
   "id": "7eb01ad1-58b9-45cf-8645-b6c34b1a6381",
   "metadata": {
    "deletable": false,
    "editable": false,
    "tags": []
   },
   "outputs": [],
   "source": [
    "# Initialize Otter\n",
    "import otter\n",
    "grader = otter.Notebook(\"PHYS 231 - Lab 4a.ipynb\")"
   ]
  },
  {
   "cell_type": "markdown",
   "id": "4829cb27-5ee2-48dc-a367-75c47eb65629",
   "metadata": {
    "deletable": false,
    "editable": false,
    "tags": []
   },
   "source": [
    "***\n",
    "## Import Modules:\n",
    "Execute the cell below to import a number of useful pre-built Python modules that will be used in the PHYS 121 pre-labs and labs."
   ]
  },
  {
   "cell_type": "code",
   "execution_count": null,
   "id": "bc3060d9-45c8-4512-aeee-c7086242caea",
   "metadata": {
    "deletable": false,
    "editable": false,
    "tags": []
   },
   "outputs": [],
   "source": [
    "import numpy as np\n",
    "import matplotlib.pyplot as plt\n",
    "from matplotlib.pyplot import cm # used to generate a sequence of colours for plotting\n",
    "import pandas as pd\n",
    "import scipy.stats as sp\n",
    "from scipy.optimize import curve_fit\n",
    "from IPython.display import HTML as html_print\n",
    "from IPython.display import display, Markdown, Latex\n",
    "import uncertainties\n",
    "import math\n",
    "import sys"
   ]
  },
  {
   "cell_type": "code",
   "execution_count": null,
   "id": "f9f88489",
   "metadata": {
    "deletable": false,
    "editable": false,
    "tags": []
   },
   "outputs": [],
   "source": [
    "PHYS231.graderCheck(['PHYS231' in sys.modules, 'PHYS231' in sys.modules, 'numpy' in sys.modules], ['PHYS231', 'otter', 'numpy'], grader.check('q0.1'))"
   ]
  },
  {
   "cell_type": "markdown",
   "id": "32892153-b3b0-4ef1-bfe1-79e33d9bed70",
   "metadata": {
    "deletable": false,
    "editable": false,
    "tags": []
   },
   "source": [
    "# <div style=\"background-color:rgba(255, 204, 255, 0.5); text-align:center; vertical-align: middle; padding:40px 0; margin-top:30px\"><span style=\"color:rgba(102, 0, 204, 1);\">Name & Student Number</span></div>  \n",
    "\n",
    "To ensure that both you and your partner receive credit for you lab work, both your name and student number and your partner's name and student number need to appear in the notebooks used during the labs.  In the cells below this text, enter your name and student number and your partner's name and student number as strings (i.e. place your names and student numbers between single or double quotes.\n",
    "\n",
    "Examples of valid entries are:\n",
    "```python\n",
    "last_name_1 = 'Doe'\n",
    "first_name_1 = 'Jane'\n",
    "student_number_1 = '12345678'\n",
    "```\n",
    "and\n",
    "```python\n",
    "last_name_1 = \"Doe\"\n",
    "first_name_1 = \"John\"\n",
    "student_number_1 = \"12345678\"\n",
    "```"
   ]
  },
  {
   "cell_type": "markdown",
   "id": "f4d3001d-5422-4809-bcb3-9255e6c76593",
   "metadata": {
    "deletable": false,
    "editable": false,
    "tags": []
   },
   "source": [
    "<!-- BEGIN QUESTION -->\n",
    "\n",
    "***\n",
    "### **<span style=\"color:blue\">Partner #1</span>** **<span style=\"color:red\">(0.5 marks)</span>** "
   ]
  },
  {
   "cell_type": "code",
   "execution_count": null,
   "id": "e0f9bbdc-f675-4b8a-a7be-018f08bcaff0",
   "metadata": {
    "tags": []
   },
   "outputs": [],
   "source": [
    "# Enter LAST name of partner 1.  Delete the ... below and type your entry between the single quotes.\n",
    "# Once you've completed your entry, press SHIFT + ENTER to execute the cell.\n",
    "# *** Please do not change anything to the left of the equals sign. ***\n",
    "last_name_1 = ..."
   ]
  },
  {
   "cell_type": "code",
   "execution_count": null,
   "id": "660791ea-961c-4b36-94b4-bd1f291d3ad4",
   "metadata": {
    "tags": []
   },
   "outputs": [],
   "source": [
    "# Enter FIRST name of partner 1.  Delete the ... below and type your entry between the single quotes.\n",
    "# Once you've completed your entry, press SHIFT + ENTER to execute the cell.\n",
    "# *** Please do not change anything to the left of the equals sign. ***\n",
    "first_name_1 = ..."
   ]
  },
  {
   "cell_type": "code",
   "execution_count": null,
   "id": "7aad0662-ea9f-4b68-bf16-f9e6ae7bccc3",
   "metadata": {
    "tags": []
   },
   "outputs": [],
   "source": [
    "# Enter STUDENT NUMBER of partner 1.  Delete the ... below and type your entry between the single quotes.\n",
    "# Once you've completed your entry, press SHIFT + ENTER to execute the cell.\n",
    "# *** Please do not change anything to the left of the equals sign. ***\n",
    "student_number_1 = ..."
   ]
  },
  {
   "cell_type": "markdown",
   "id": "f920acfd-a995-4a2b-b568-c2541d2729d4",
   "metadata": {
    "deletable": false,
    "editable": false,
    "tags": []
   },
   "source": [
    "***\n",
    "### **<span style=\"color:blue\">Partner #2</span>** **<span style=\"color:red\">(0.5 marks)</span>** \n",
    "If you are working on your own, leave all of last_name_2, first_name_2, and student_number_2 as ...  Please still exectute these cells and then run the 'grader.check(\"name_and_student_number_2\")' cell."
   ]
  },
  {
   "cell_type": "code",
   "execution_count": null,
   "id": "06014ad1-ce5b-4823-8048-69f2bb51483e",
   "metadata": {
    "tags": []
   },
   "outputs": [],
   "source": [
    "# Enter LAST name of partner 2.  Delete the ... below and type your entry between the single quotes.\n",
    "# Once you've completed your entry, press SHIFT + ENTER to execute the cell.\n",
    "# *** Please do not change anything to the left of the equals sign. ***\n",
    "last_name_2 = ..."
   ]
  },
  {
   "cell_type": "code",
   "execution_count": null,
   "id": "ab58743f-7f81-45ac-9201-446e0d31255e",
   "metadata": {
    "tags": []
   },
   "outputs": [],
   "source": [
    "# Enter FIRST name of partner 2.  Delete the ... below and type your entry between the single quotes.\n",
    "# Once you've completed your entry, press SHIFT + ENTER to execute the cell.\n",
    "# *** Please do not change anything to the left of the equals sign. ***\n",
    "first_name_2 = ..."
   ]
  },
  {
   "cell_type": "code",
   "execution_count": null,
   "id": "10662f58-6cf7-40c2-a90f-cce3af157f61",
   "metadata": {
    "tags": []
   },
   "outputs": [],
   "source": [
    "# Enter STUDENT NUMBER of partner 2.  Delete the ... below and type your entry between the single quotes.\n",
    "# Once you've completed your entry, press SHIFT + ENTER to execute the cell.\n",
    "# *** Please do not change anything to the left of the equals sign. ***\n",
    "student_number_2 = ..."
   ]
  },
  {
   "cell_type": "code",
   "execution_count": null,
   "id": "99d3d2c2",
   "metadata": {
    "deletable": false,
    "editable": false,
    "tags": []
   },
   "outputs": [],
   "source": [
    "PHYS231.graderCheck([last_name_1, first_name_1, student_number_1, last_name_2, first_name_2, student_number_2], ['last_name_1', 'first_name_1', 'student_number_1', 'last_name_2', 'first_name_2', 'student_number_2'], grader.check('name_and_student_number'))"
   ]
  },
  {
   "cell_type": "markdown",
   "id": "91ece658",
   "metadata": {
    "deletable": false,
    "editable": false,
    "tags": []
   },
   "source": [
    "# <div style=\"background-color:rgba(255, 204, 255, 0.5); text-align:center; vertical-align: middle; padding:40px 0; margin-top:30px\"><span style=\"color:rgba(102, 0, 204, 1);\">Part 1 - Oscilloscope Measurement of the Time Constant</span></div>\n",
    "\n",
    "## NumPy Arrays\n",
    "\n",
    "Data that you collect during the lab can be entered directly into a list using the following notation:\n",
    "\n",
    "```python\n",
    "x = [x0, x1, x2, x3, ..., xN]\n",
    "y = [y0, y1, y2, y3, ..., yN]\n",
    "```\n",
    "These lists will contain $N+1$ elements. It's usually more convenient to enter data into a NumPy array rather than a list because you can do mathematical operations on arrays that you can't do on lists.  For example:\n",
    "\n",
    "- squaring an array creates an new array with each of the elements from the original array squared\n",
    "- multiplying two arrays of the same length creates a new array in which the each element is the product of the corresponding elements from the original arrays\n",
    "- ...\n",
    "\n",
    "NumPy arrays are entered using the following syntax:\n",
    "\n",
    "```python\n",
    "x = np.array([x0, x1, x2, x3, ..., xN])\n",
    "y = np.array([y0, y1, y2, y3, ..., yN])\n",
    "```             "
   ]
  },
  {
   "cell_type": "markdown",
   "id": "935bf728-450d-4ced-8443-ca326c085d29",
   "metadata": {
    "deletable": false,
    "editable": false,
    "tags": []
   },
   "source": [
    "<!-- BEGIN QUESTION -->\n",
    "\n",
    "***\n",
    "**<span style=\"color:blue\">Question 1.1</span>** **<span style=\"color:red\">(1 mark)</span>**  \n",
    "\n",
    "In the cell below, replace the ... with your data.  You have **lots** of time in today's lab, so focus on collecting as much high-quality data as possible.\n",
    "\n",
    "*** Please do not change anything to the left of the equals sign. ***"
   ]
  },
  {
   "cell_type": "code",
   "execution_count": null,
   "id": "14fe30c9",
   "metadata": {
    "tags": []
   },
   "outputs": [],
   "source": [
    "time = np.array([...])\n",
    "Vp = np.array([...])\n",
    "errVp = np.array([...])"
   ]
  },
  {
   "cell_type": "code",
   "execution_count": null,
   "id": "d7054a13",
   "metadata": {
    "deletable": false,
    "editable": false,
    "tags": []
   },
   "outputs": [],
   "source": [
    "PHYS231.graderCheck([time, Vp, errVp], ['time', 'Vp', 'errVp'], grader.check('q1.1'))"
   ]
  },
  {
   "cell_type": "markdown",
   "id": "544887c0",
   "metadata": {
    "deletable": false,
    "editable": false,
    "tags": []
   },
   "source": [
    "## Pandas DateFrames\n",
    "\n",
    "The Pandas package can be used to display your array data in a nicely-formated table.  The Pandas package creates \"DataFrames\" which are two-dimensional data structures, like a two-dimensional array, or a table with rows and columns.  The cell below creates and then displays a DataFrame using the arrays that you created in the cell above."
   ]
  },
  {
   "cell_type": "code",
   "execution_count": null,
   "id": "49132db1",
   "metadata": {},
   "outputs": [],
   "source": [
    "# Create the data structure.\n",
    "data = {\n",
    "    \"time (s)\": time,\n",
    "    \"VR (V)\": Vp,\n",
    "    \"errVR (V)\": errVp\n",
    "        }\n",
    "\n",
    "# An option to format the numbers in the DataFrame.\n",
    "pd.set_option('display.float_format', lambda x: '%0.3g' % x)\n",
    "\n",
    "#Display the data.\n",
    "pd.DataFrame(data)"
   ]
  },
  {
   "cell_type": "markdown",
   "id": "e0394144",
   "metadata": {
    "deletable": false,
    "editable": false,
    "tags": []
   },
   "source": [
    "### Calculate the Natural Logarithm of the Peak Voltage\n",
    "\n",
    "The transient response of voltage a across are resistor in an highly-underdamped $LRC$ circuit is given by:\n",
    "\n",
    "\\begin{align}\n",
    "V_\\mathrm{R}(t)\\approx\\omega_1 V_0 RCe^{-\\left(\\gamma/2\\right)t}\\sin\\left(\\omega_1 t\\right)\n",
    "\\end{align}\n",
    "\n",
    "where $V_0$ is the size of the voltage step, $\\gamma = R/L$, and $\\omega_1=\\sqrt{\\omega_0^2 - \\left(\\gamma/2\\right)^2}$.  Note that, for the highly-underdamped circuit that we're working with $\\omega\\gg\\gamma/2$ such that $\\omega_1\\approx\\omega_0=1/\\sqrt{LC}$. In this case, the peak voltages as a function of time are governed by:\n",
    "\n",
    "\\begin{align}\n",
    "V_\\mathrm{p}(t)\\approx\\omega_0 V_0 RCe^{-\\left(\\gamma/2\\right)t}\n",
    "\\end{align}\n",
    "\n",
    "This expression can be linearized by taking the natural logarithm of both sides such that:\n",
    "\n",
    "\\begin{align}\n",
    "\\ln\\left(V_\\mathrm{p}\\right)\\approx\\left(-\\frac{\\gamma}{2}\\right) t + \\ln\\left(\\omega_0 V_0 RC\\right)\n",
    "\\end{align}\n",
    "\n",
    "This is the equation of a straight line with slope $-\\gamma/2$ and $y$-intercept $\\ln\\left(\\omega_0 V_0 RC\\right)$.\n",
    "\n",
    "In the cell below, you will calculate the natural logarithm of the peak voltage.  Recall that in Python, the natural logarithm of $x$ is called using\n",
    "```python\n",
    "np.log(x)\n",
    "```"
   ]
  },
  {
   "cell_type": "markdown",
   "id": "c41ba584-15a0-4a92-a6f1-1b897d3a3c33",
   "metadata": {
    "deletable": false,
    "editable": false,
    "tags": []
   },
   "source": [
    "***\n",
    "**<span style=\"color:blue\">Question 1.2</span>** **<span style=\"color:red\">(1 mark)</span>**  \n",
    "\n",
    "In the cell below, replace the ... with an expression that calculates the $ln\\left(V_\\mathrm{p}\\right)$.\n",
    "\n",
    "*** Please do not change anything to the left of the equals sign. ***"
   ]
  },
  {
   "cell_type": "code",
   "execution_count": null,
   "id": "ffd35d3b",
   "metadata": {
    "tags": []
   },
   "outputs": [],
   "source": [
    "lnVp = ..."
   ]
  },
  {
   "cell_type": "code",
   "execution_count": null,
   "id": "6e172651",
   "metadata": {
    "deletable": false,
    "editable": false,
    "tags": []
   },
   "outputs": [],
   "source": [
    "PHYS231.graderCheck([lnVp], ['lnVp'], grader.check('q1.2'))"
   ]
  },
  {
   "cell_type": "markdown",
   "id": "c3b6420d",
   "metadata": {
    "deletable": false,
    "editable": false,
    "tags": []
   },
   "source": [
    "### Calculate the uncertainty in $\\ln\\left(V_\\mathrm{p}\\right)$\n",
    "\n",
    "Recall propagation of errors.  If $y = f\\left(x1, x2, ..., x_N\\right)$ and $x_i\\pm\\Delta x_i$ for $i= 1...N$ are known, then:\n",
    "\n",
    "\\begin{align}\n",
    "\\Delta y = \\sqrt{\\left(\\frac{\\partial f}{\\partial x_1}\\Delta x_1\\right)^2 + \\left(\\frac{\\partial f}{\\partial x_2}\\Delta x_2\\right)^2 + ... + \\left(\\frac{\\partial f}{\\partial x_N}\\Delta x_N\\right)^2}\n",
    "\\end{align}\n",
    "\n",
    "If $y=\\ln\\left(V_\\mathrm{p}\\right)$, then $y$ is a function of only a single variable and:\n",
    "\n",
    "\\begin{align}\n",
    "\\Delta y = \\left\\vert \\frac{\\partial y}{\\partial V_\\mathrm{p}}\\Delta V_\\mathrm{p}\\right\\vert\n",
    "\\end{align}\n",
    "\n",
    "In the cell below, calculate the uncertainty in $\\ln V_\\mathrm{p}$."
   ]
  },
  {
   "cell_type": "markdown",
   "id": "9aeda068-2577-4d6d-bcd9-864585578850",
   "metadata": {
    "deletable": false,
    "editable": false,
    "tags": []
   },
   "source": [
    "***\n",
    "**<span style=\"color:blue\">Question 1.3</span>** **<span style=\"color:red\">(1 mark)</span>**  \n",
    "\n",
    "In the cell below, replace the ... with an expression that calculates the uncertainty in $ln\\left(V_\\mathrm{p}\\right)$.\n",
    "\n",
    "*** Please do not change anything to the left of the equals sign. ***"
   ]
  },
  {
   "cell_type": "code",
   "execution_count": null,
   "id": "1b223231",
   "metadata": {
    "tags": []
   },
   "outputs": [],
   "source": [
    "errlnVp = ..."
   ]
  },
  {
   "cell_type": "code",
   "execution_count": null,
   "id": "f75c3baa",
   "metadata": {
    "deletable": false,
    "editable": false,
    "tags": []
   },
   "outputs": [],
   "source": [
    "PHYS231.graderCheck([errlnVp], ['errlnVp'], grader.check('q1.3'))"
   ]
  },
  {
   "cell_type": "markdown",
   "id": "e40c3efa",
   "metadata": {
    "deletable": false,
    "editable": false,
    "tags": []
   },
   "source": [
    "### Plot the data\n",
    "\n",
    "The $\\ln\\left(V_\\mathrm{p}\\right)$ data can now be plotted as a function of time.  Execute the cell below to created a scatter plot with error bars.  For additional information about the 'Scatter' function, see **Appendix A** near the end of this notebook. "
   ]
  },
  {
   "cell_type": "markdown",
   "id": "127a0a58-de65-4092-bfb8-52c7efca0267",
   "metadata": {
    "deletable": false,
    "editable": false,
    "tags": []
   },
   "source": [
    "<!-- BEGIN QUESTION -->\n",
    "\n",
    "***\n",
    "**<span style=\"color:blue\">Question 1.4</span>** **<span style=\"color:red\">(1 mark)</span>**  \n",
    "\n",
    "In the cell below, replace the ... with the appropriate data to generate a plot of $ln\\left(V_\\mathrm{p}\\right)$ versus $t$.  Be sure to include errror bars.\n",
    "\n",
    "For additional information about the 'Scatter()' function, see **Appendix A** near the end of this notebook. \n",
    "\n",
    "*** Please do not change anything to the left of the equals sign. ***"
   ]
  },
  {
   "cell_type": "code",
   "execution_count": null,
   "id": "1d24a833",
   "metadata": {
    "tags": []
   },
   "outputs": [],
   "source": [
    "PHYS231.Scatter(xData = ..., \n",
    "                yData = ..., \n",
    "                yErrors = ...,\n",
    "                xlabel = 'time', \n",
    "                ylabel = 'ln Vp', \n",
    "                xUnits = 's', \n",
    "                yUnits = '');"
   ]
  },
  {
   "cell_type": "markdown",
   "id": "553f0059",
   "metadata": {
    "deletable": false,
    "editable": false,
    "tags": []
   },
   "source": [
    "<!-- END QUESTION -->\n",
    "\n",
    "## Linear Fits\n",
    "\n",
    "The final thing that we'll do in Part 2 is fit a straight line through the data corrected (i.e. cut) data.  We'll use the 'LinearFit' contained in PHYS231.py to complete this task.  The function call to perform a weighted fit is:\n",
    "```python\n",
    "m, b, dm, db, fig = PHYS231.LinearFit(t, y, erry)\n",
    "```\n",
    "A weighted fit with a formatted plot can be called by using some of the other available arguments:\n",
    "```python\n",
    "m, b, dm, db, fig = PHYS231.LinearFit(xData = t, yData = y, yErrors = erry, xlabel = 'time', ylabel = 'position', xUnits = 's', yUnits = 'm')\n",
    "```\n",
    "In the cell below to preform a weighted linear fit to your data.\n",
    "\n",
    "For additional information about the 'LinearFit' function, see **Appendix B** near the end of this notebook. "
   ]
  },
  {
   "cell_type": "markdown",
   "id": "43d8ecd4-a49f-448f-8b73-79ba777cfc66",
   "metadata": {
    "deletable": false,
    "editable": false,
    "tags": []
   },
   "source": [
    "<!-- BEGIN QUESTION -->\n",
    "\n",
    "***\n",
    "**<span style=\"color:blue\">Question 1.5</span>** **<span style=\"color:red\">(1 mark)</span>**  \n",
    "\n",
    "In the cell below, replace the ... with the data needed to a weighted linear fit to $\\ln\\left(V_\\mathrm{p}\\right)$ versus $t$.\n",
    "\n",
    "*** Please do not change anything to the left of the equals sign. ***"
   ]
  },
  {
   "cell_type": "code",
   "execution_count": null,
   "id": "63f1f360",
   "metadata": {
    "tags": []
   },
   "outputs": [],
   "source": [
    "m, b, dm, db, fig = PHYS231.LinearFit(\n",
    "                    xData = ...,\n",
    "                    yData= ...,\n",
    "                    yErrors = ...,\n",
    "                    xlabel = \"time\",\n",
    "                    ylabel = \"ln Vp\",\n",
    "                    xUnits = \"s\",\n",
    "                    yUnits = \"\",\n",
    ")"
   ]
  },
  {
   "cell_type": "markdown",
   "id": "94467b0e",
   "metadata": {
    "deletable": false,
    "editable": false,
    "tags": []
   },
   "source": [
    "<!-- END QUESTION -->\n",
    "\n",
    "## Determining the time constant: $\\gamma\\pm\\Delta\\gamma$\n",
    "\n",
    "Use the slope from the linear fit and its uncertainty to determine an experimental value for $\\gamma=R/L$ and its uncertainty."
   ]
  },
  {
   "cell_type": "markdown",
   "id": "d88bdcc1-0eb2-4b82-a877-92666078192b",
   "metadata": {
    "deletable": false,
    "editable": false,
    "tags": []
   },
   "source": [
    "***\n",
    "**<span style=\"color:blue\">Question 1.6</span>** **<span style=\"color:red\">(2 marks)</span>**  \n",
    "\n",
    "In the cell below, replace the ... with expressions that calculate $\\gamma$ and its uncertainty.\n",
    "\n",
    "*** Please do not change anything to the left of the equals sign. ***"
   ]
  },
  {
   "cell_type": "code",
   "execution_count": null,
   "id": "1d188ad4",
   "metadata": {
    "tags": []
   },
   "outputs": [],
   "source": [
    "# Enter an expression to calculate gamma. \n",
    "gamma = ...\n",
    "\n",
    "# Enter an expression to calculate the uncertainty in gamma. \n",
    "err_gamma = ..."
   ]
  },
  {
   "cell_type": "code",
   "execution_count": null,
   "id": "f1b28321",
   "metadata": {
    "deletable": false,
    "editable": false,
    "tags": []
   },
   "outputs": [],
   "source": [
    "PHYS231.graderCheck([gamma, err_gamma], ['gamma', 'err_gamma'], grader.check('q1.6'))"
   ]
  },
  {
   "cell_type": "code",
   "execution_count": null,
   "id": "ae1817d3",
   "metadata": {},
   "outputs": [],
   "source": [
    "# The 'uncertainties' package can be used round the numerical value of gamma based on the value of the uncertainty.\n",
    "# gamma and errgamma are passed to 'ufloat'\n",
    "print('gamma =', uncertainties.ufloat(gamma, err_gamma), '1/s')"
   ]
  },
  {
   "cell_type": "markdown",
   "id": "c4d4a3e7",
   "metadata": {
    "deletable": false,
    "editable": false,
    "tags": []
   },
   "source": [
    "In your lab notebook, you should compare this experimentally-measured value of $\\gamma$ to the value that you expected based on the values of the components used in your circuit.  Recall that $\\gamma=R/L$.  Keep in mind that your expected value of $\\gamma$ will also have an uncertainty based on the uncertainties in the values of $R\\pm\\Delta R$ and $L\\pm\\Delta L$."
   ]
  },
  {
   "cell_type": "markdown",
   "id": "2722a2b6",
   "metadata": {
    "deletable": false,
    "editable": false,
    "tags": []
   },
   "source": [
    "# <div style=\"background-color:rgba(255, 204, 255, 0.5); text-align:center; vertical-align: middle; padding:40px 0; margin-top:30px\"><span style=\"color:rgba(102, 0, 204, 1);\">Part 2 - Feedback and Submission</span></div>"
   ]
  },
  {
   "cell_type": "markdown",
   "id": "cd42e49c",
   "metadata": {
    "deletable": false,
    "editable": false,
    "tags": []
   },
   "source": [
    "<!-- BEGIN QUESTION -->\n",
    "\n",
    "***\n",
    "**<span style=\"color:blue\">Question 2.1:</span>**  \n",
    "\n",
    "We welcome your feedback on the PHYS 231 labs!  Please feel free to include any comments you have about this lab in the cell below.  Your comments will be taken into consideration when revising/improving the PHYS 231 labs.  You can suggest improvements, point out anything that was unclear, comment on the strengths and weaknesses of the lab, ...\n",
    "\n",
    "This question is optional and will have no impact on your lab grade."
   ]
  },
  {
   "cell_type": "markdown",
   "id": "8d6f3270",
   "metadata": {},
   "source": [
    "***\n",
    "**<span style=\"color:blue\">Answer 2.1:</span>**\n",
    "\n",
    "[//]: # (Please do not delete this comment or anything above it.  Anything below this comment can be deleted.)  \n",
    "\n",
    "Double click this cell to enter your comments.  This text can be deleted."
   ]
  },
  {
   "cell_type": "markdown",
   "id": "9b2df2a7-e859-479f-b6eb-7d703195b72c",
   "metadata": {
    "deletable": false,
    "editable": false,
    "tags": []
   },
   "source": [
    "<!-- END QUESTION -->\n",
    "\n",
    "***\n",
    "Once you've completed this notebook:\n",
    "- Save your work.\n",
    "- Run 'grader.check_all()' to confirm that you've completed all required tasks.\n",
    "- Run 'grader.export()' to generate a .zip file containing all of the materials that you will submit.\n",
    "- Download the generated .zip file using the link that appears **below** the ```grader.check_all(...)``` cell.\n",
    "- $\\Leftarrow$ Please do **NOT** download the zip file from the frame along the left-hand side of the screen. \n",
    "- Upload the .zip file to the PHYS 121 Canvas gradebook.\n",
    "- **Do NOT change the name of the .zip file.**\n",
    "- **Do NOT modify the contents of the .zip file.**\n",
    "\n",
    "Here is a <a href = \"https://raw.githubusercontent.com/UBC-Okanagan-Physics-Labs/PHYS-121-images/main/general/gifs/Submission.gif\">GIF</a> showing how these steps are completed.  Once your completed notebook has been uploaded to the Canvas gradebook, you're done!"
   ]
  },
  {
   "cell_type": "markdown",
   "id": "7c3077aa",
   "metadata": {
    "deletable": false,
    "editable": false,
    "tags": []
   },
   "source": [
    "---\n",
    "\n",
    "To double-check your work, the cell below will rerun all of the autograder tests."
   ]
  },
  {
   "cell_type": "code",
   "execution_count": null,
   "id": "7ff027dc-9f24-4c36-9bab-570e44e822e2",
   "metadata": {
    "deletable": false,
    "editable": false,
    "tags": []
   },
   "outputs": [],
   "source": [
    "display(grader.check_all())\n",
    "PHYS231.saveMessage()"
   ]
  },
  {
   "cell_type": "markdown",
   "id": "7e3775b6",
   "metadata": {
    "deletable": false,
    "editable": false,
    "tags": []
   },
   "source": [
    "## Submission\n",
    "\n",
    "Make sure you have run all cells in your notebook in order before running the cell below, so that all images/graphs appear in the output. The cell below will generate a zip file for you to submit. **Please save before exporting!**"
   ]
  },
  {
   "cell_type": "code",
   "execution_count": null,
   "id": "0c16bc2e-4e6d-452b-be2b-3f4551082fec",
   "metadata": {
    "deletable": false,
    "editable": false,
    "tags": []
   },
   "outputs": [],
   "source": [
    "# Save your notebook first, then run this cell to export your submission.\n",
    "PHYS231.waitMessage()\n",
    "grader.export(files=[\"PHYS121_DataLogger.txt\"])\n",
    "PHYS231.proceedMessage()"
   ]
  },
  {
   "cell_type": "markdown",
   "id": "f2d34f70",
   "metadata": {
    "deletable": false,
    "editable": false,
    "tags": []
   },
   "source": [
    "# <div style=\"background-color:rgba(255, 204, 255, 0.5); text-align:center; vertical-align: middle; padding:40px 0; margin-top:30px\"><span style=\"color:rgba(102, 0, 204, 1);\">Part 3 - Playground (optional)</span></div>\n",
    "\n",
    "Feel free to add as many cells as you like below and use them as a playground for further independent investigations.  These cells won't be graded, so feel free to use them in any way that you like.  "
   ]
  },
  {
   "cell_type": "code",
   "execution_count": null,
   "id": "ff728887",
   "metadata": {},
   "outputs": [],
   "source": [
    "# Here's an empty code cell that you can use."
   ]
  },
  {
   "cell_type": "code",
   "execution_count": null,
   "id": "7fcf5550",
   "metadata": {},
   "outputs": [],
   "source": [
    "# Here's another empty code cell that you can use."
   ]
  },
  {
   "cell_type": "code",
   "execution_count": null,
   "id": "922c01cc",
   "metadata": {},
   "outputs": [],
   "source": [
    "# Here's yet another empty code cell that you can use.\n",
    "# If you need more, you can add cells using the '+' icon in the menu bar at to the top of the screen."
   ]
  },
  {
   "cell_type": "markdown",
   "id": "b399df35",
   "metadata": {
    "deletable": false,
    "editable": false,
    "tags": []
   },
   "source": [
    "### <div style=\"background-color:rgba(255, 255, 102, 0.5); text-align:left; padding:20px 0; margin-top:20px\">$\\quad$Appendix A &ndash; The Scatter Function...</div>\n",
    "\n",
    "The function for generating scatter plots is called as follows:\n",
    "```python\n",
    "PHYS231.Scatter(xData, yData, yErrors = [], xlabel = 'x-axis', ylabel = 'y-axis', xUnits = '', yUnits = '', fill = False, show = True)\n",
    "```\n",
    "The 'xData' and 'yData' inputs are required, all other arguments are optional with default values set.  The function returns the a single output (the formatted plot):\n",
    "```python\n",
    "fig\n",
    "```\n",
    "\n",
    "The function will do a simple scatter plot if no 'yError' are included.  It will included error bars if 'yErrors' are passed to the function.  The 'fill' and 'show' arguments should generally be false.  \n",
    "\n",
    "If the 'xData' list is empty, as in:\n",
    "```python\n",
    "xData = []\n",
    "```\n",
    "then the x-axis will be the trial number.  For example, is 'xData' is empty and 'yData' has 10 elements, the x-axis will span 1 to 10.\n",
    "\n",
    "### Scatter Example Implmentation\n",
    "The code block below shows an implementation of 'Scatter'.\n",
    "```python\n",
    "import PHYS231\n",
    "theta = [10, 20, 30] # degrees\n",
    "T = [2.02, 1.95, 2.13] # s\n",
    "errT = [0.02, 0.02, 0.03] # s\n",
    "fig = PHYS231.Scatter(theta, T, errT, 'initial angle' , 'period', 'degrees', 's')\n",
    "```\n",
    "\n",
    "If you're interested in generating your own plots with customized formatting, see the following Python-based plotting tutorial: https://cmps-people.ok.ubc.ca/jbobowsk/Python/html/Jupyter%20Basic%20Plots.html.\n",
    "***"
   ]
  },
  {
   "cell_type": "markdown",
   "id": "585f3316",
   "metadata": {
    "deletable": false,
    "editable": false,
    "tags": []
   },
   "source": [
    "### <div style=\"background-color:rgba(255, 255, 102, 0.5); text-align:left; padding:20px 0; margin-top:20px\">$\\quad$Appendix B &ndash; The LinearFit Function...</div>\n",
    "\n",
    "The linear-fit function is called as follows:\n",
    "```python\n",
    "PHYS231.LinearFit(xData, yData, yErrors = [], xlabel = 'x-axis', ylabel = 'y-axis', xUnits = '', yUnits = '', fill = False)\n",
    "```\n",
    "The xData and yData lists are required.  The others are optional with default values set.  The function returns the following outputs:\n",
    "```python\n",
    "Slope, Yintercept, errSlope, errYintercept, fig\n",
    "```\n",
    "The first four outputs are numerical values and 'fig' is the formatted plot. \n",
    "\n",
    "If $y$-uncertainities are provided, the function will perform a weighted fit.  The $y$-uncertainties list must be the same length as $x$- and $y$-data lists.  If $y$-uncertainties are not provided, the fit will be unweighted.  The other optional arguments include $x$- and $y$-axis names and units for the $x$- and $y$-datasets.  These must be entered as strings (enclosed in quotations) and they are used for formatting the outputs of the function.  If 'fill' is set to True, shading will be added around the best-fit line representing confindence intervals. \n",
    "\n",
    "### Unweighted Fit Example Implmentation\n",
    "The code block below shows the most basic use of 'LinearFit' for an unweighted fit without any of the optional arguments.\n",
    "```python\n",
    "import PHYS231\n",
    "V = [1, 2, 3, 4]\n",
    "I = [0.12, 0.198, 0.285, 0.412]\n",
    "m, b, dm, db, fig = PHYS231.LinearFit(V, I)\n",
    "```\n",
    "\n",
    "### Weighted Fit Example Implmentation\n",
    "This second blcok of code shows how to use 'LinearFit' to do a weighted fit.  It also makes use of all of the other optional arguments.  \n",
    "```python\n",
    "import PHYS231\n",
    "V = [1, 2, 3, 4]\n",
    "I = [0.12, 0.198, 0.285, 0.412]\n",
    "errI = [0.005, 0.012, 0.020, 0.025]\n",
    "m, b, dm, db, fig = PHYS231.LinearFit(V, I, errI, 'voltage' , 'current', 'V', 'A', True)\n",
    "```\n",
    "\n",
    "The 'm, b, dm, db, fig = ...' syntax is used to store the function outputs in varibles.  If you're interested in details of the fitting process, see the following Python-based tutorial: https://cmps-people.ok.ubc.ca/jbobowsk/Python/html/Jupyter%20Weighted%20Linear%20Fit.html\n",
    "***"
   ]
  },
  {
   "cell_type": "markdown",
   "id": "312d2afe-5e89-4262-94aa-ff235505bbf8",
   "metadata": {
    "deletable": false,
    "editable": false,
    "tags": []
   },
   "source": [
    "<img src=\"https://raw.githubusercontent.com/UBC-Okanagan-Physics-Labs/PHYS-121-images/main/general/images/ubc-logo-full.jpg\" width=\"500\"/>"
   ]
  },
  {
   "cell_type": "markdown",
   "id": "ac162dd1",
   "metadata": {
    "deletable": false,
    "tags": []
   },
   "source": [
    "Last update: February 12, 2025"
   ]
  }
 ],
 "metadata": {
  "kernelspec": {
   "display_name": "Python 3 (ipykernel)",
   "language": "python",
   "name": "python3"
  },
  "language_info": {
   "codemirror_mode": {
    "name": "ipython",
    "version": 3
   },
   "file_extension": ".py",
   "mimetype": "text/x-python",
   "name": "python",
   "nbconvert_exporter": "python",
   "pygments_lexer": "ipython3",
   "version": "3.11.10"
  },
  "otter": {
   "OK_FORMAT": true,
   "tests": {
    "name_and_student_number": {
     "name": "name_and_student_number",
     "points": null,
     "suites": [
      {
       "cases": [
        {
         "code": ">>> isinstance(last_name_1, str)\nTrue",
         "failure_message": "last_name_1 must be a string (i.e. surround your answer by either single or double quotes).",
         "hidden": false,
         "locked": false,
         "points": 0
        },
        {
         "code": ">>> isinstance(first_name_1, str)\nTrue",
         "failure_message": "first_name_1 must be a string (i.e. surround your answer by either single or double quotes).",
         "hidden": false,
         "locked": false,
         "points": 0
        },
        {
         "code": ">>> isinstance(student_number_1, str)\nTrue",
         "failure_message": "student_number_1 must be a string (i.e. surround your answer by either single or double quotes).",
         "hidden": false,
         "locked": false,
         "points": 0
        },
        {
         "code": ">>> test = True\n>>> if isinstance(student_number_1, str):\n...     test = len(student_number_1) == 8\n>>> test\nTrue",
         "failure_message": "student_number_1 must be a string of exactly 8 characters.",
         "hidden": false,
         "locked": false,
         "points": 0
        },
        {
         "code": ">>> test = True\n>>> if isinstance(student_number_1, str):\n...     test = student_number_1.isdigit()\n>>> test\nTrue",
         "failure_message": "student_number_1 must contain only interger digits (0, 1, 2, 3, ..., 9)",
         "hidden": false,
         "locked": false,
         "points": 0.5
        },
        {
         "code": ">>> isinstance(last_name_2, str) or last_name_2 == ...\nTrue",
         "failure_message": "last_name_2 must be a string (i.e. surround your answer by either single or double quotes).",
         "hidden": false,
         "locked": false,
         "points": 0
        },
        {
         "code": ">>> isinstance(first_name_2, str) or first_name_2 == ...\nTrue",
         "failure_message": "first_name_2 must be a string (i.e. surround your answer by either single or double quotes).",
         "hidden": false,
         "locked": false,
         "points": 0
        },
        {
         "code": ">>> isinstance(student_number_2, str) or student_number_2 == ...\nTrue",
         "failure_message": "student_number_2 must be a string (i.e. surround your answer by either single or double quotes).",
         "hidden": false,
         "locked": false,
         "points": 0
        },
        {
         "code": ">>> test = True\n>>> if isinstance(student_number_2, str):\n...     test = len(student_number_2) == 8\n>>> test\nTrue",
         "failure_message": "student_number_2 must be a string of exactly 8 characters or be left as ...",
         "hidden": false,
         "locked": false,
         "points": 0
        },
        {
         "code": ">>> test = True\n>>> if isinstance(student_number_2, str):\n...     test = student_number_2.isdigit()\n>>> test\nTrue",
         "failure_message": "student_number_2 must contain only interger digits (0, 1, 2, 3, ..., 9) or be left as ...",
         "hidden": false,
         "locked": false,
         "points": 0.5
        }
       ],
       "scored": true,
       "setup": "",
       "teardown": "",
       "type": "doctest"
      }
     ]
    },
    "q0.1": {
     "name": "q0.1",
     "points": null,
     "suites": [
      {
       "cases": [
        {
         "code": ">>> 'PHYS231' in sys.modules and 'otter' in sys.modules and ('numpy' in sys.modules)\nTrue",
         "failure_message": "Make sure you execute the cells containing \"import PHYS231\" and \"import otter\" as well as the cell beneath the heading \"Import Modules\".",
         "hidden": false,
         "locked": false,
         "points": 0
        }
       ],
       "scored": true,
       "setup": "",
       "teardown": "",
       "type": "doctest"
      }
     ]
    },
    "q1.1": {
     "name": "q1.1",
     "points": null,
     "suites": [
      {
       "cases": [
        {
         "code": ">>> len(time) == len(Vp)\nTrue",
         "failure_message": "Your time and Vp lists are different lengths.",
         "hidden": false,
         "locked": false,
         "points": 0.33
        },
        {
         "code": ">>> len(time) == len(errVp)\nTrue",
         "failure_message": "Your time and errVp lists are different lengths.",
         "hidden": false,
         "locked": false,
         "points": 0.33
        },
        {
         "code": ">>> len(Vp) == len(errVp)\nTrue",
         "failure_message": "Your Vp and errVp lists are different lengths.",
         "hidden": false,
         "locked": false,
         "points": 0.34
        }
       ],
       "scored": true,
       "setup": "",
       "teardown": "",
       "type": "doctest"
      }
     ]
    },
    "q1.2": {
     "name": "q1.2",
     "points": null,
     "suites": [
      {
       "cases": [
        {
         "code": ">>> all(np.isclose(lnVp, np.log(Vp), rtol=0.01))\nTrue",
         "failure_message": "Double check your calculation of ln(Vp).  Remember that, in Python, the syntax for the natural logarithm of x is np.log(x).",
         "hidden": false,
         "locked": false,
         "points": 1
        }
       ],
       "scored": true,
       "setup": "",
       "teardown": "",
       "type": "doctest"
      }
     ]
    },
    "q1.3": {
     "name": "q1.3",
     "points": null,
     "suites": [
      {
       "cases": [
        {
         "code": ">>> all(np.isclose(errlnVp, errVp / Vp, rtol=0.01))\nTrue",
         "failure_message": "Double check your calculation of the uncertainty in ln(Vp).  You should apply propagation of errors.",
         "hidden": false,
         "locked": false,
         "points": 1
        }
       ],
       "scored": true,
       "setup": "",
       "teardown": "",
       "type": "doctest"
      }
     ]
    },
    "q1.6": {
     "name": "q1.6",
     "points": null,
     "suites": [
      {
       "cases": [
        {
         "code": ">>> math.isclose(gamma, -2 * m, abs_tol=0, rel_tol=0.01)\nTrue",
         "failure_message": "Double check your calculation of gamma.",
         "hidden": false,
         "locked": false,
         "points": 1
        },
        {
         "code": ">>> math.isclose(err_gamma, 2 * dm, abs_tol=0, rel_tol=0.01)\nTrue",
         "failure_message": "Double check your calculation of the uncertainty in gamma.",
         "hidden": false,
         "locked": false,
         "points": 1
        }
       ],
       "scored": true,
       "setup": "",
       "teardown": "",
       "type": "doctest"
      }
     ]
    }
   }
  },
  "vscode": {
   "interpreter": {
    "hash": "a1ce1a55934a23fd40442cf0356ecbdd657c4299d40a67360326f76004edb0e0"
   }
  }
 },
 "nbformat": 4,
 "nbformat_minor": 5
}
